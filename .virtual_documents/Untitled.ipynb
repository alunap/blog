import pandas as pd


df = pd.DataFrame({
    "Date": [
        "2015-05-08", "2015-05-07", "2015-05-06", "2015-05-05",
        "2015-05-08", "2015-05-07", "2015-05-06", "2015-05-05"],
    "Data": [5, 8, 6, 1, 50, 100, 60, 120],
})


def makechat(row):
    row['chat'] = f"{row.Date} is the date"
    return row


df.transform(makechat, axis=1)





data = pd.Series([0.25, 0.5, 0.375, 1.0], index = [2,5,3,7])


data[5]





pd.Series([2,4,6])


pd.Series(5, index=[100, 200, 300])


s = pd.Series({2:'a', 1:'b', 3:'c'})


s[1]





pd.Series({2:'a', 1:'b', 3:'c'}, index=[1,2])





population_dict = {'California': 39538223, 'Texas': 29145505,
                            'Florida': 21538187, 'New York': 20201249,
                            'Pennsylvania': 13002700}
population = pd.Series(population_dict)
population


area_dict = {'California': 423967, 'Texas': 695662, 'Florida': 170312,
                      'New York': 141297, 'Pennsylvania': 119280}
area = pd.Series(area_dict)
area


states = pd.DataFrame({'population': population, 'area': area})
states





states.columns


states.index


states['area']





# from a list of dicts
data = [{'a': i, 'b': 2*i} for i in range{3}]
pd.DataFrame(data)



